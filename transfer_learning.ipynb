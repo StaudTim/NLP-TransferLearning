{
 "cells": [
  {
   "cell_type": "markdown",
   "metadata": {
    "collapsed": true,
    "pycharm": {
     "name": "#%% md\n"
    }
   },
   "source": [
    "# Transfer Learning in der Spracherkennung\n",
    "Seminar Aktuelle Themen der KI (SS2023)\n",
    "\n",
    "Gruppenmitglieder:\n",
    "- Miguel Meindl\n",
    "- Simon Wolf\n",
    "- Tim Staudinger"
   ]
  },
  {
   "cell_type": "markdown",
   "metadata": {},
   "source": [
    "## 1. Installation\n",
    "- Pandas\n",
    "- Numpy\n",
    "- PyTorch\n",
    "- Scikit-Learn\n",
    "- Transformers"
   ]
  },
  {
   "cell_type": "code",
   "execution_count": null,
   "metadata": {
    "pycharm": {
     "name": "#%%\n"
    }
   },
   "outputs": [],
   "source": [
    "!pip3 install -r requirements.txt"
   ]
  },
  {
   "cell_type": "markdown",
   "metadata": {
    "pycharm": {
     "name": "#%% md\n"
    }
   },
   "source": [
    "## 2. BERT (Bidirectional Encoder Representations from Transformers)\n",
    "- Veröffentlicht von Google im Jahr 2018\n",
    "- Basiert auf einer Transformer-Architektur\n",
    "- Vortrainiert auf einen großen Korpus nicht gelabelten Text, inklusive der gesamten Wikipedia (2.500 Millionen Wörter) und des BookCorpus\n",
    "- BookCorpus: Text von ca. 11.000 nicht veröffentlichen Büchern (ca. 985 Millionen Wörter)\n",
    "\n",
    "Wie wurde BERT trainiert?\n",
    "- Masked Language Model:\n",
    "    - 15% der Wörter wurde zufällige während des Trainings verdeckt\n",
    "    - BERT muss die verdeckten Wörter vorhersagen\n",
    "    - Ziel: Erlernen der englischen Sprache und der verwendeten Wörter\n",
    "\n",
    "- Next Sentence Prediction:\n",
    "    - BERT muss klassifizieren, ob zwei Sätze aufeinander folgen\n",
    "    - Ziel: Beziehungen zwischen Sätzen verstehen"
   ]
  },
  {
   "cell_type": "markdown",
   "metadata": {
    "pycharm": {
     "name": "#%% md\n"
    }
   },
   "source": [
    "### 2.1 Masked Language Model"
   ]
  },
  {
   "cell_type": "code",
   "execution_count": null,
   "metadata": {
    "pycharm": {
     "name": "#%%\n"
    }
   },
   "outputs": [],
   "source": [
    "from transformers import pipeline"
   ]
  },
  {
   "cell_type": "code",
   "execution_count": null,
   "metadata": {
    "pycharm": {
     "name": "#%%\n"
    }
   },
   "outputs": [],
   "source": [
    "unmasker = pipeline('fill-mask', model='bert-base-uncased')\n",
    "\n",
    "text = \"Artificial Intelligence [MASK] will take over the world.\"\n",
    "unmasker(text)"
   ]
  },
  {
   "cell_type": "markdown",
   "metadata": {
    "pycharm": {
     "name": "#%% md\n"
    }
   },
   "source": [
    "### 2.2 Next Sentence Prediction"
   ]
  },
  {
   "cell_type": "code",
   "execution_count": null,
   "metadata": {
    "pycharm": {
     "name": "#%%\n"
    }
   },
   "outputs": [],
   "source": [
    "from transformers import BertTokenizer, BertForNextSentencePrediction\n",
    "import torch"
   ]
  },
  {
   "cell_type": "code",
   "execution_count": null,
   "metadata": {
    "pycharm": {
     "name": "#%%\n"
    }
   },
   "outputs": [],
   "source": [
    "tokenizer = BertTokenizer.from_pretrained(\"bert-base-uncased\")\n",
    "model = BertForNextSentencePrediction.from_pretrained(\"bert-base-uncased\")\n",
    "\n",
    "sentence_A = \"It is raining today.\"\n",
    "sentence_B = \"I will go out on saturday.\"\n",
    "\n",
    "inputs = tokenizer(sentence_A, sentence_B, return_tensors=\"pt\")\n",
    "outputs = model(**inputs)\n",
    "prediction = torch.argmax(outputs.logits)\n",
    "\n",
    "if prediction == 0:\n",
    "    print(\"Die Sätze gehören zusammen.\")\n",
    "else:\n",
    "    print(\"Die Sätze gehören nicht zusammen.\")"
   ]
  },
  {
   "cell_type": "markdown",
   "metadata": {
    "pycharm": {
     "name": "#%% md\n"
    }
   },
   "source": [
    "## 3. Transfer Learning"
   ]
  },
  {
   "cell_type": "code",
   "execution_count": null,
   "metadata": {
    "pycharm": {
     "name": "#%%\n"
    }
   },
   "outputs": [],
   "source": []
  },
  {
   "cell_type": "code",
   "execution_count": null,
   "metadata": {
    "pycharm": {
     "name": "#%%\n"
    }
   },
   "outputs": [],
   "source": []
  }
 ],
 "metadata": {
  "kernelspec": {
   "display_name": "Python 3 (ipykernel)",
   "language": "python",
   "name": "python3"
  },
  "language_info": {
   "codemirror_mode": {
    "name": "ipython",
    "version": 3
   },
   "file_extension": ".py",
   "mimetype": "text/x-python",
   "name": "python",
   "nbconvert_exporter": "python",
   "pygments_lexer": "ipython3",
   "version": "3.9.4"
  }
 },
 "nbformat": 4,
 "nbformat_minor": 1
}